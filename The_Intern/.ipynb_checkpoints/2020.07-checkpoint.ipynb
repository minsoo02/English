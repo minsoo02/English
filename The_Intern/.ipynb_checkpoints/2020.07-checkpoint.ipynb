{
 "cells": [
  {
   "cell_type": "markdown",
   "metadata": {},
   "source": [
    "**# 2020.07.02**  \n",
    "Freud said love and work. work and love  \n",
    "That's all there is  \n",
    "Well I'm retired, and my wife is dead  \n",
    "As you can imagine, that's given me some time on my hands  \n",
    "My wife's been gone for three and a half years  \n",
    "I miss her in every way  \n",
    "And retirement? That is an ongoing, relentless effort in creativity  \n",
    "At first, I admit I enjoyed the novelty of it  \n",
    "Sort of felt like I was playing hooky  \n",
    "I used all the miles I'd saved and traveled the globe  \n",
    "The problem was, no matter where I went, as soon as I got home, the no-where to be thing hit me like a ton of bricks  "
   ]
  },
  {
   "cell_type": "code",
   "execution_count": null,
   "metadata": {},
   "outputs": [],
   "source": []
  }
 ],
 "metadata": {
  "kernelspec": {
   "display_name": "Python 3",
   "language": "python",
   "name": "python3"
  },
  "language_info": {
   "codemirror_mode": {
    "name": "ipython",
    "version": 3
   },
   "file_extension": ".py",
   "mimetype": "text/x-python",
   "name": "python",
   "nbconvert_exporter": "python",
   "pygments_lexer": "ipython3",
   "version": "3.7.6"
  },
  "toc": {
   "base_numbering": 1,
   "nav_menu": {},
   "number_sections": false,
   "sideBar": true,
   "skip_h1_title": false,
   "title_cell": "Table of Contents",
   "title_sidebar": "Contents",
   "toc_cell": false,
   "toc_position": {},
   "toc_section_display": true,
   "toc_window_display": false
  }
 },
 "nbformat": 4,
 "nbformat_minor": 4
}
