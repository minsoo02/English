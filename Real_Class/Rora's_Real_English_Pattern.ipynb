{
 "cells": [
  {
   "cell_type": "markdown",
   "metadata": {},
   "source": [
    "#### 2020.12.16 ( WED )"
   ]
  },
  {
   "cell_type": "markdown",
   "metadata": {},
   "source": [
    "It's not going to **fit** in the fridge!\n",
    "\n",
    "It doesn't fit me.  \n",
    "How does it fit?  \n",
    "It fits me perfect.  \n",
    "It fits you.  \n",
    "\n",
    "Sera doesn't fit in.  \n",
    "Sera fits in very well."
   ]
  },
  {
   "cell_type": "markdown",
   "metadata": {},
   "source": [
    "**Check** this **out**!\n",
    "\n",
    "Check it out!  \n",
    "He checked me out.  \n",
    "Are you checking him out?  \n",
    "He is checking you out."
   ]
  },
  {
   "cell_type": "markdown",
   "metadata": {},
   "source": [
    "It was **pretty** great.\n",
    "\n",
    "It was pretty awesome!  \n",
    "He is pretty handsome.  \n",
    "It is pretty good!"
   ]
  },
  {
   "cell_type": "markdown",
   "metadata": {},
   "source": [
    "**Watch out**  \n",
    "**Look out**\n",
    "\n",
    "Watch out for dogs.  \n",
    "Watch out for playboys."
   ]
  },
  {
   "cell_type": "markdown",
   "metadata": {},
   "source": [
    "What's the **hold up**?"
   ]
  },
  {
   "cell_type": "markdown",
   "metadata": {},
   "source": [
    "#### 2020.12.17 ( THU )"
   ]
  },
  {
   "cell_type": "markdown",
   "metadata": {},
   "source": [
    "You are **out of control**.\n",
    "\n",
    "The situation is out of control.  \n",
    "I'm out of control.\n",
    "\n",
    "I'm in control."
   ]
  },
  {
   "cell_type": "markdown",
   "metadata": {},
   "source": [
    "You **should have** seen the look on your face!\n",
    "\n",
    "You should have come to the party! It was off the hook.  \n",
    "**You should have told me**, then I would understood you better.  \n",
    "You should have tried it.  \n",
    "She should have gone to bed earlier for today."
   ]
  },
  {
   "cell_type": "markdown",
   "metadata": {},
   "source": [
    "**What the ...**\n",
    "\n",
    "What is that?  \n",
    "What the heck is that?\n",
    "\n",
    "Who are you?  \n",
    "Who the hell are you?"
   ]
  },
  {
   "cell_type": "markdown",
   "metadata": {},
   "source": [
    "You can't **out**run me!\n",
    "\n",
    "I think you are going to outlive me.  \n",
    "I Think you will outscore me.  \n",
    "I outscored you.  \n",
    "I can outeat you."
   ]
  },
  {
   "cell_type": "markdown",
   "metadata": {},
   "source": [
    "**I just wanted to** eat together like best buds.\n",
    "\n",
    "I just wanted to go shopping.  \n",
    "I just wanted to see you, that's all.  \n",
    "I just wanted to eat. Nothing else."
   ]
  },
  {
   "cell_type": "markdown",
   "metadata": {},
   "source": [
    "**I guess** I dreamed too big.\n",
    "\n",
    "Guess I'm making us breakfast.  \n",
    "Guess they are still out saving the world.  \n",
    "I guess you are busy.  \n",
    "I guess I was wrong."
   ]
  },
  {
   "cell_type": "markdown",
   "metadata": {},
   "source": [
    "**I don't think** I can eat this.\n",
    "\n",
    "I don't think I can do this.  \n",
    "I don't think I can get a perfect score.  \n",
    "I don't think I can love again.  \n",
    "I don't think it is open.  \n",
    "I don't think this is size small.  \n",
    "I don't think he is right."
   ]
  },
  {
   "cell_type": "code",
   "execution_count": null,
   "metadata": {},
   "outputs": [],
   "source": []
  }
 ],
 "metadata": {
  "kernelspec": {
   "display_name": "Python 3",
   "language": "python",
   "name": "python3"
  },
  "language_info": {
   "codemirror_mode": {
    "name": "ipython",
    "version": 3
   },
   "file_extension": ".py",
   "mimetype": "text/x-python",
   "name": "python",
   "nbconvert_exporter": "python",
   "pygments_lexer": "ipython3",
   "version": "3.7.6"
  },
  "toc": {
   "base_numbering": 1,
   "nav_menu": {},
   "number_sections": false,
   "sideBar": true,
   "skip_h1_title": false,
   "title_cell": "Table of Contents",
   "title_sidebar": "Contents",
   "toc_cell": false,
   "toc_position": {
    "height": "calc(100% - 180px)",
    "left": "10px",
    "top": "150px",
    "width": "173px"
   },
   "toc_section_display": true,
   "toc_window_display": false
  }
 },
 "nbformat": 4,
 "nbformat_minor": 4
}
